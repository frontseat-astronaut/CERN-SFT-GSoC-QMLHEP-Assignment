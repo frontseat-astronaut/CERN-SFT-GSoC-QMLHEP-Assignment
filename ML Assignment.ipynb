{
 "cells": [
  {
   "cell_type": "code",
   "execution_count": 1,
   "metadata": {},
   "outputs": [],
   "source": [
    "import numpy as np\n",
    "import sklearn.manifold\n",
    "import seaborn as sns\n",
    "import matplotlib.pyplot as plt\n",
    "import tensorflow.keras as keras\n",
    "seed_value = 10\n",
    "import random\n",
    "random.seed(seed_value)\n",
    "import tensorflow as tf\n",
    "# tf.random.set_seed(seed_value)\n",
    "import numpy as np\n",
    "# np.random.seed(seed_value)\n",
    "from sklearn.utils import shuffle"
   ]
  },
  {
   "cell_type": "code",
   "execution_count": 2,
   "metadata": {},
   "outputs": [],
   "source": [
    "a = np.load('QIS_EXAM_200Events.npz', allow_pickle = True)"
   ]
  },
  {
   "cell_type": "code",
   "execution_count": 3,
   "metadata": {},
   "outputs": [],
   "source": [
    "test = a['test_input.npy'].tolist()\n",
    "train = a['training_input.npy'].tolist()"
   ]
  },
  {
   "cell_type": "markdown",
   "metadata": {},
   "source": [
    "Normalized the feature inputs by subtracting by mean and diving by the standard deviation for each feature separately. "
   ]
  },
  {
   "cell_type": "code",
   "execution_count": 4,
   "metadata": {},
   "outputs": [],
   "source": [
    "x_train = train['0']\n",
    "x_train = np.append(x_train, train['1'], axis = 0)\n",
    "y_train = np.array([0]*50 + [1]*50)\n",
    "x_train, y_train = shuffle(x_train, y_train, random_state=seed_value)\n",
    "\n",
    "#Normalize the features\n",
    "mean = np.average(x_train, axis = 0)\n",
    "var = (np.average(x_train**2, axis = 0) - mean**2)\n",
    "x_train = (x_train - mean)/np.sqrt(var)"
   ]
  },
  {
   "cell_type": "code",
   "execution_count": 5,
   "metadata": {},
   "outputs": [],
   "source": [
    "x_test = test['0']\n",
    "x_test = np.append(x_test, test['1'], axis = 0)\n",
    "y_test = np.array([0]*50 + [1]*50)\n",
    "x_test, y_test = shuffle(x_test, y_test, random_state=seed_value)\n",
    "\n",
    "#Normalize\n",
    "x_test = (x_test - mean)/np.sqrt(var)"
   ]
  },
  {
   "cell_type": "markdown",
   "metadata": {},
   "source": [
    "Visualizing dataset by projecting it to 2 dimensions\n",
    "As we can see, clustering won't work because each of the 4 clusters have mixed labels"
   ]
  },
  {
   "cell_type": "code",
   "execution_count": 6,
   "metadata": {},
   "outputs": [
    {
     "data": {
      "text/plain": [
       "<matplotlib.axes._subplots.AxesSubplot at 0x1953c264dd8>"
      ]
     },
     "execution_count": 6,
     "metadata": {},
     "output_type": "execute_result"
    },
    {
     "data": {
      "image/png": "[encoded data removed]",
      "text/plain": [
       "<Figure size 720x504 with 1 Axes>"
      ]
     },
     "metadata": {
      "needs_background": "light"
     },
     "output_type": "display_data"
    }
   ],
   "source": [
    "train_embed = sklearn.manifold.TSNE(2).fit_transform(x_train)\n",
    "plt.figure(figsize=(10,7))\n",
    "sns.scatterplot(train_embed[:,0], train_embed[:,1], hue=y_train, legend='full')"
   ]
  },
  {
   "cell_type": "markdown",
   "metadata": {},
   "source": [
    "# Neural Network"
   ]
  },
  {
   "cell_type": "markdown",
   "metadata": {},
   "source": [
    "Neural Networks have the amazing ability to perform many non linear transformations on data so as to learn multi level representations of the data by itself, without any explicit feature engineering. \n",
    "Here, I have written a template code for training a neural network, with arbitrary number of hidden units (argument 'units'). As can be seen by a trial run with no hidden layers (basically logistic regression), the neural network reaches a saturation after 20 epochs, where the training accuracy and testing accuracy don't increase any further. It may be likely that the loss (sparse categorical entropy) is stuck at a local minima.\n",
    "This requires us to tune hyper parameters and start with different weight initializations, to see if the model can perform better."
   ]
  },
  {
   "cell_type": "code",
   "execution_count": 52,
   "metadata": {},
   "outputs": [
    {
     "name": "stdout",
     "output_type": "stream",
     "text": [
      "Train on 100 samples, validate on 100 samples\n",
      "Epoch 1/20\n",
      "100/100 [==============================] - 0s 4ms/sample - loss: 0.6853 - accuracy: 0.5800 - val_loss: 0.6759 - val_accuracy: 0.7100\n",
      "Epoch 2/20\n",
      "100/100 [==============================] - 0s 196us/sample - loss: 0.6667 - accuracy: 0.8000 - val_loss: 0.6668 - val_accuracy: 0.6900\n",
      "Epoch 3/20\n",
      "100/100 [==============================] - 0s 249us/sample - loss: 0.6518 - accuracy: 0.8100 - val_loss: 0.6587 - val_accuracy: 0.7100\n",
      "Epoch 4/20\n",
      "100/100 [==============================] - 0s 228us/sample - loss: 0.6368 - accuracy: 0.8200 - val_loss: 0.6523 - val_accuracy: 0.7000\n",
      "Epoch 5/20\n",
      "100/100 [==============================] - 0s 239us/sample - loss: 0.6231 - accuracy: 0.8200 - val_loss: 0.6463 - val_accuracy: 0.7000\n",
      "Epoch 6/20\n",
      "100/100 [==============================] - 0s 249us/sample - loss: 0.6099 - accuracy: 0.8200 - val_loss: 0.6412 - val_accuracy: 0.7100\n",
      "Epoch 7/20\n",
      "100/100 [==============================] - 0s 239us/sample - loss: 0.5962 - accuracy: 0.8100 - val_loss: 0.6366 - val_accuracy: 0.7200\n",
      "Epoch 8/20\n",
      "100/100 [==============================] - 0s 230us/sample - loss: 0.5839 - accuracy: 0.8000 - val_loss: 0.6333 - val_accuracy: 0.7200\n",
      "Epoch 9/20\n",
      "100/100 [==============================] - 0s 250us/sample - loss: 0.5714 - accuracy: 0.8000 - val_loss: 0.6308 - val_accuracy: 0.7100\n",
      "Epoch 10/20\n",
      "100/100 [==============================] - 0s 240us/sample - loss: 0.5594 - accuracy: 0.8100 - val_loss: 0.6286 - val_accuracy: 0.7100\n",
      "Epoch 11/20\n",
      "100/100 [==============================] - 0s 259us/sample - loss: 0.5497 - accuracy: 0.8200 - val_loss: 0.6281 - val_accuracy: 0.7000\n",
      "Epoch 12/20\n",
      "100/100 [==============================] - 0s 246us/sample - loss: 0.5401 - accuracy: 0.8200 - val_loss: 0.6281 - val_accuracy: 0.7000\n",
      "Epoch 13/20\n",
      "100/100 [==============================] - 0s 250us/sample - loss: 0.5321 - accuracy: 0.8100 - val_loss: 0.6283 - val_accuracy: 0.7000\n",
      "Epoch 14/20\n",
      "100/100 [==============================] - 0s 249us/sample - loss: 0.5252 - accuracy: 0.8100 - val_loss: 0.6293 - val_accuracy: 0.7000\n",
      "Epoch 15/20\n",
      "100/100 [==============================] - 0s 309us/sample - loss: 0.5172 - accuracy: 0.8100 - val_loss: 0.6306 - val_accuracy: 0.6900\n",
      "Epoch 16/20\n",
      "100/100 [==============================] - 0s 329us/sample - loss: 0.5100 - accuracy: 0.8200 - val_loss: 0.6314 - val_accuracy: 0.6900\n",
      "Epoch 17/20\n",
      "100/100 [==============================] - 0s 319us/sample - loss: 0.5037 - accuracy: 0.8200 - val_loss: 0.6331 - val_accuracy: 0.6900\n",
      "Epoch 18/20\n",
      "100/100 [==============================] - 0s 329us/sample - loss: 0.4983 - accuracy: 0.8200 - val_loss: 0.6353 - val_accuracy: 0.6900\n",
      "Epoch 19/20\n",
      "100/100 [==============================] - 0s 359us/sample - loss: 0.4925 - accuracy: 0.8200 - val_loss: 0.6376 - val_accuracy: 0.7000\n",
      "Epoch 20/20\n",
      "100/100 [==============================] - 0s 349us/sample - loss: 0.4874 - accuracy: 0.8200 - val_loss: 0.6389 - val_accuracy: 0.7000\n"
     ]
    },
    {
     "data": {
      "text/plain": [
       "(0.72, 0.81)"
      ]
     },
     "execution_count": 52,
     "metadata": {},
     "output_type": "execute_result"
    }
   ],
   "source": [
    "# Training code template\n",
    "def train(lr, batch_size, units, verbose = 0):\n",
    "    keras.backend.clear_session()\n",
    "    model = keras.Sequential()\n",
    "    model.add(keras.layers.Input(shape = (5,)))\n",
    "    for u in units:\n",
    "        model.add(keras.layers.Dense(u, activation = 'relu',\n",
    "                                    kernel_initializer='random_uniform',\n",
    "                                    bias_initializer='zero'))\n",
    "    model.add(keras.layers.Dense(1, activation = 'sigmoid',\n",
    "                                kernel_initializer='random_uniform',\n",
    "                                bias_initializer='zero'))\n",
    "\n",
    "    model.compile(optimizer = keras.optimizers.Adam(lr = lr), loss = 'binary_crossentropy', metrics = ['accuracy'])\n",
    "    history = model.fit(x = x_train, y = y_train, epochs = 20, batch_size = batch_size, validation_data = (x_test, y_test),\n",
    "                       verbose = verbose)\n",
    "    return np.max(history.history['val_accuracy']), history.history['accuracy'][np.argmax(history.history['val_accuracy'])]\n",
    "train(0.01, 32, [], 1)"
   ]
  },
  {
   "cell_type": "markdown",
   "metadata": {},
   "source": [
    "Here, the program tries different combinations of hyper-parameter values (learning rate and Batch size), and also run the training code multiple times (each time with different weight initializations, distributed uniformly) and record maximum validation accuracy reached. In this section, the model is a simple logistic regression model."
   ]
  },
  {
   "cell_type": "code",
   "execution_count": 53,
   "metadata": {},
   "outputs": [
    {
     "name": "stdout",
     "output_type": "stream",
     "text": [
      "lr:  1e-05 batch size:  1\n",
      "Validation accuracy:  0.57  Training accuracy:  0.65 \n",
      "\n",
      "lr:  1e-05 batch size:  8\n",
      "Validation accuracy:  0.65  Training accuracy:  0.73 \n",
      "\n",
      "lr:  1e-05 batch size:  16\n",
      "Validation accuracy:  0.6  Training accuracy:  0.6 \n",
      "\n",
      "lr:  1e-05 batch size:  32\n",
      "Validation accuracy:  0.66  Training accuracy:  0.75 \n",
      "\n",
      "lr:  1e-05 batch size:  64\n",
      "Validation accuracy:  0.45  Training accuracy:  0.38 \n",
      "\n",
      "lr:  0.0001 batch size:  1\n",
      "Validation accuracy:  0.74  Training accuracy:  0.71 \n",
      "\n",
      "lr:  0.0001 batch size:  8\n",
      "Validation accuracy:  0.72  Training accuracy:  0.76 \n",
      "\n",
      "lr:  0.0001 batch size:  16\n",
      "Validation accuracy:  0.72  Training accuracy:  0.73 \n",
      "\n",
      "lr:  0.0001 batch size:  32\n",
      "Validation accuracy:  0.63  Training accuracy:  0.56 \n",
      "\n",
      "lr:  0.0001 batch size:  64\n",
      "Validation accuracy:  0.45  Training accuracy:  0.53 \n",
      "\n",
      "lr:  0.001 batch size:  1\n",
      "Validation accuracy:  0.72  Training accuracy:  0.74 \n",
      "\n",
      "lr:  0.001 batch size:  8\n",
      "Validation accuracy:  0.72  Training accuracy:  0.82 \n",
      "\n",
      "lr:  0.001 batch size:  16\n",
      "Validation accuracy:  0.74  Training accuracy:  0.75 \n",
      "\n",
      "lr:  0.001 batch size:  32\n",
      "Validation accuracy:  0.72  Training accuracy:  0.77 \n",
      "\n",
      "lr:  0.001 batch size:  64\n",
      "Validation accuracy:  0.72  Training accuracy:  0.76 \n",
      "\n",
      "lr:  0.01 batch size:  1\n",
      "Validation accuracy:  0.71  Training accuracy:  0.76 \n",
      "\n",
      "lr:  0.01 batch size:  8\n",
      "Validation accuracy:  0.74  Training accuracy:  0.56 \n",
      "\n",
      "lr:  0.01 batch size:  16\n",
      "Validation accuracy:  0.72  Training accuracy:  0.57 \n",
      "\n",
      "lr:  0.01 batch size:  32\n",
      "Validation accuracy:  0.71  Training accuracy:  0.81 \n",
      "\n",
      "lr:  0.01 batch size:  64\n",
      "Validation accuracy:  0.72  Training accuracy:  0.79 \n",
      "\n",
      "lr:  0.1 batch size:  1\n",
      "Validation accuracy:  0.71  Training accuracy:  0.8 \n",
      "\n",
      "lr:  0.1 batch size:  8\n",
      "Validation accuracy:  0.72  Training accuracy:  0.76 \n",
      "\n",
      "lr:  0.1 batch size:  16\n",
      "Validation accuracy:  0.71  Training accuracy:  0.82 \n",
      "\n",
      "lr:  0.1 batch size:  32\n",
      "Validation accuracy:  0.71  Training accuracy:  0.83 \n",
      "\n",
      "lr:  0.1 batch size:  64\n",
      "Validation accuracy:  0.72  Training accuracy:  0.67 \n",
      "\n",
      "lr:  1.0 batch size:  1\n",
      "Validation accuracy:  0.74  Training accuracy:  0.74 \n",
      "\n",
      "lr:  1.0 batch size:  8\n",
      "Validation accuracy:  0.72  Training accuracy:  0.75 \n",
      "\n",
      "lr:  1.0 batch size:  16\n",
      "Validation accuracy:  0.72  Training accuracy:  0.65 \n",
      "\n",
      "lr:  1.0 batch size:  32\n",
      "Validation accuracy:  0.72  Training accuracy:  0.86 \n",
      "\n",
      "lr:  1.0 batch size:  64\n",
      "Validation accuracy:  0.72  Training accuracy:  0.8 \n",
      "\n",
      "Maximum Validation Accuracy achieved:  0.74 \n",
      "Corresponding training accuracy:  0.71\n"
     ]
    }
   ],
   "source": [
    "# Doing Grid Search on learning rates and batch sizes for logistic regression (no hidden units)\n",
    "def grid_search(units, verbose = False):\n",
    "    LR = 10**(np.arange(start = -5.0, stop = 1, step = 1.0))\n",
    "    BS = [1, 8, 16, 32, 64]\n",
    "    maxm_val_acc = 0\n",
    "    argmax_acc = 0\n",
    "    for lr in LR:\n",
    "        for batch_size in BS:\n",
    "            if verbose:\n",
    "                print('lr: ', lr, 'batch size: ', batch_size)\n",
    "            val_accs = []\n",
    "            accs = []\n",
    "                      \n",
    "            for rep in range(5): ## Trying different random initializations of weights\n",
    "                val_acc, acc = train(lr, batch_size, units, 0)\n",
    "                accs += [acc]\n",
    "                val_accs += [val_acc]\n",
    "                \n",
    "            if verbose:\n",
    "                print('Validation accuracy: ', np.max(val_accs), ' Training accuracy: ', accs[np.argmax(val_accs)], '\\n')\n",
    "            if maxm_val_acc<np.max(val_accs):\n",
    "                maxm_val_acc = np.max(val_accs)\n",
    "                argmax_acc = accs[np.argmax(val_accs)]\n",
    "    print('Maximum Validation Accuracy achieved: ', maxm_val_acc, '\\nCorresponding training accuracy: ', argmax_acc)\n",
    "grid_search([], True) # No hidden layer"
   ]
  },
  {
   "cell_type": "markdown",
   "metadata": {},
   "source": [
    "Here, I perform grid search on various neural network structures with different number of layers and units. The maximum validation accuracy that we get out of all these models is 0.77, but all models perform almost equally well. "
   ]
  },
  {
   "cell_type": "code",
   "execution_count": 54,
   "metadata": {},
   "outputs": [
    {
     "name": "stdout",
     "output_type": "stream",
     "text": [
      "Units:  [2]\n",
      "Maximum Validation Accuracy achieved:  0.76 \n",
      "Corresponding training accuracy:  0.76\n",
      "\n",
      "\n",
      "Units:  [8]\n",
      "Maximum Validation Accuracy achieved:  0.76 \n",
      "Corresponding training accuracy:  0.69\n",
      "\n",
      "\n",
      "Units:  [32]\n",
      "Maximum Validation Accuracy achieved:  0.76 \n",
      "Corresponding training accuracy:  0.54\n",
      "\n",
      "\n",
      "Units:  [1024]\n",
      "Maximum Validation Accuracy achieved:  0.77 \n",
      "Corresponding training accuracy:  0.73\n",
      "\n",
      "\n",
      "Units:  [2, 2]\n",
      "Maximum Validation Accuracy achieved:  0.74 \n",
      "Corresponding training accuracy:  0.73\n",
      "\n",
      "\n",
      "Units:  [8, 16]\n",
      "Maximum Validation Accuracy achieved:  0.76 \n",
      "Corresponding training accuracy:  0.55\n",
      "\n",
      "\n",
      "Units:  [16, 8]\n",
      "Maximum Validation Accuracy achieved:  0.76 \n",
      "Corresponding training accuracy:  0.72\n",
      "\n",
      "\n",
      "Units:  [64, 64]\n",
      "Maximum Validation Accuracy achieved:  0.76 \n",
      "Corresponding training accuracy:  0.72\n",
      "\n",
      "\n",
      "Units:  [64, 8]\n",
      "Maximum Validation Accuracy achieved:  0.76 \n",
      "Corresponding training accuracy:  0.72\n",
      "\n",
      "\n",
      "Units:  [1024, 1024]\n",
      "Maximum Validation Accuracy achieved:  0.76 \n",
      "Corresponding training accuracy:  0.79\n",
      "\n",
      "\n",
      "Units:  [64, 32, 8]\n",
      "Maximum Validation Accuracy achieved:  0.76 \n",
      "Corresponding training accuracy:  0.8\n",
      "\n",
      "\n"
     ]
    }
   ],
   "source": [
    "# Trying different NN models with different number and sizes of hidden units\n",
    "units =[\n",
    "    [2],\n",
    "    [8],\n",
    "    [32],\n",
    "    [1024],\n",
    "    [2, 2],\n",
    "    [8, 16],\n",
    "    [16, 8],\n",
    "    [64, 64],\n",
    "    [64, 8],\n",
    "    [1024, 1024],\n",
    "    [64, 32, 8]\n",
    "]\n",
    "for u in units:\n",
    "    print('Units: ', u)\n",
    "    grid_search(u)\n",
    "    print('\\n')"
   ]
  },
  {
   "cell_type": "code",
   "execution_count": null,
   "metadata": {},
   "outputs": [],
   "source": []
  }
 ],
 "metadata": {
  "kernelspec": {
   "display_name": "Python 3.7.0 64-bit",
   "language": "python",
   "name": "python37064bit28d9aa1fd3a4469e87fcd97f727b6fa7"
  },
  "language_info": {
   "codemirror_mode": {
    "name": "ipython",
    "version": 3
   },
   "file_extension": ".py",
   "mimetype": "text/x-python",
   "name": "python",
   "nbconvert_exporter": "python",
   "pygments_lexer": "ipython3",
   "version": "3.7.0"
  }
 },
 "nbformat": 4,
 "nbformat_minor": 2
}
