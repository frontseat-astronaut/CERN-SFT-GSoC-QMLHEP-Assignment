{
 "cells": [
  {
   "cell_type": "markdown",
   "metadata": {},
   "source": [
    "Question #1"
   ]
  },
  {
   "cell_type": "code",
   "execution_count": 2,
   "metadata": {},
   "outputs": [],
   "source": [
    "import cirq\n",
    "import numpy as np\n",
    "import matplotlib.pyplot as plt"
   ]
  },
  {
   "cell_type": "code",
   "execution_count": 3,
   "metadata": {},
   "outputs": [
    {
     "data": {
      "text/plain": [
       "[cirq.GridQubit(0, 0),\n",
       " cirq.GridQubit(0, 1),\n",
       " cirq.GridQubit(0, 2),\n",
       " cirq.GridQubit(0, 3),\n",
       " cirq.GridQubit(0, 4)]"
      ]
     },
     "execution_count": 3,
     "metadata": {},
     "output_type": "execute_result"
    }
   ],
   "source": [
    "length = 5\n",
    "qubits = [cirq.GridQubit(0, x) for x in range(length)]\n",
    "qubits"
   ]
  },
  {
   "cell_type": "code",
   "execution_count": 4,
   "metadata": {},
   "outputs": [
    {
     "data": {
      "text/html": [
       "<pre style=\"overflow: auto; white-space: pre;\">(0, 0): ───H───@───────────────×───Rx(0.5π)───\n",
       "               │               │\n",
       "(0, 1): ───H───X───@───────────┼───Rx(0.5π)───\n",
       "                   │           │\n",
       "(0, 2): ───H───────X───@───────┼───Rx(0.5π)───\n",
       "                       │       │\n",
       "(0, 3): ───H───────────X───@───┼───Rx(0.5π)───\n",
       "                           │   │\n",
       "(0, 4): ───H───────────────X───×───Rx(0.5π)───</pre>"
      ],
      "text/plain": [
       "(0, 0): ───H───@───────────────×───Rx(0.5π)───\n",
       "               │               │\n",
       "(0, 1): ───H───X───@───────────┼───Rx(0.5π)───\n",
       "                   │           │\n",
       "(0, 2): ───H───────X───@───────┼───Rx(0.5π)───\n",
       "                       │       │\n",
       "(0, 3): ───H───────────X───@───┼───Rx(0.5π)───\n",
       "                           │   │\n",
       "(0, 4): ───H───────────────X───×───Rx(0.5π)───"
      ]
     },
     "execution_count": 4,
     "metadata": {},
     "output_type": "execute_result"
    }
   ],
   "source": [
    "circuit = cirq.Circuit()\n",
    "circuit.append([cirq.H(qubits[i]) for i in range(length)])\n",
    "circuit.append([cirq.CNOT(qubits[i], qubits[i+1]) for i in range(length-1)])\n",
    "circuit.append([cirq.SWAP(qubits[0], qubits[4])])\n",
    "circuit.append([(cirq.rx(3.14)**0.5)(qubits[i]) for i in range(length)], strategy = cirq.InsertStrategy.NEW_THEN_INLINE)\n",
    "\n",
    "circuit"
   ]
  },
  {
   "cell_type": "markdown",
   "metadata": {},
   "source": [
    "Question #2"
   ]
  },
  {
   "cell_type": "code",
   "execution_count": 9,
   "metadata": {},
   "outputs": [
    {
     "data": {
      "image/png": "[encoded data removed]",
      "text/plain": [
       "<Figure size 432x288 with 1 Axes>"
      ]
     },
     "metadata": {
      "needs_background": "light"
     },
     "output_type": "display_data"
    }
   ],
   "source": [
    "q = cirq.LineQubit(1)\n",
    "circuit = cirq.Circuit()\n",
    "\n",
    "step = 10 #Rotates by (pi/step) radians every iteration\n",
    "\n",
    "simulator = cirq.Simulator()\n",
    "result = simulator.simulate(circuit, qubit_order = [q])\n",
    "pr = [abs(result.state_vector()[0])**2/(abs(result.state_vector()[0])**2+abs(result.state_vector()[1])**2)]\n",
    "for i in range(10*step):\n",
    "    circuit.append([(cirq.rx(3.14)**(1/step))(q)])\n",
    "    result = simulator.simulate(circuit, qubit_order = [q])\n",
    "    pr += [abs(result.state_vector()[0])**2/(abs(result.state_vector()[0])**2+abs(result.state_vector()[1])**2)]\n",
    "plt.plot(pr)\n",
    "plt.show()\n"
   ]
  },
  {
   "cell_type": "code",
   "execution_count": null,
   "metadata": {},
   "outputs": [],
   "source": []
  }
 ],
 "metadata": {
  "kernelspec": {
   "display_name": "Python 3.7.0 64-bit",
   "language": "python",
   "name": "python37064bit28d9aa1fd3a4469e87fcd97f727b6fa7"
  },
  "language_info": {
   "codemirror_mode": {
    "name": "ipython",
    "version": 3
   },
   "file_extension": ".py",
   "mimetype": "text/x-python",
   "name": "python",
   "nbconvert_exporter": "python",
   "pygments_lexer": "ipython3",
   "version": "3.7.0"
  }
 },
 "nbformat": 4,
 "nbformat_minor": 2
}
